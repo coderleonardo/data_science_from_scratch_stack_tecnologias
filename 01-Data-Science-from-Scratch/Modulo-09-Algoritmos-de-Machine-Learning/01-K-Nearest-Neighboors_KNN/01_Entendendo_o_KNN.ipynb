{
 "cells": [
  {
   "cell_type": "markdown",
   "id": "134756d0-f8aa-4eeb-aebe-97e6d4f7ec37",
   "metadata": {},
   "source": [
    "# Entendendo o funcionamento do KNN\n",
    "\n",
    "Vamos explorar o funcionamento teórico do KNN a partir de um exemplo genérico"
   ]
  },
  {
   "cell_type": "code",
   "execution_count": 2,
   "id": "18543968-de76-4f27-bd1b-115e1751323b",
   "metadata": {},
   "outputs": [],
   "source": [
    "import pandas as pd"
   ]
  },
  {
   "cell_type": "code",
   "execution_count": 3,
   "id": "0ec357bf-6ca8-4b07-acb6-557183df7144",
   "metadata": {},
   "outputs": [],
   "source": [
    "obj_to_df = {\"altura\": [1.58, 1.58, 1.58, 1.60, 1.60, 1.63, 1.63], \n",
    "             \"Peso\": [0.58, 0.59, 0.63, 0.59, 0.60, 0.60, 0.61], \n",
    "             \"Tamanho_Camisa\": [\"P\", \"P\", \"P\", \"M\", \"M\", \"M\", \"M\"]}\n",
    "\n",
    "df = pd.DataFrame(obj_to_df)"
   ]
  },
  {
   "cell_type": "code",
   "execution_count": 4,
   "id": "b324e1a3-c85e-4a5f-b380-d9f18b4cb21a",
   "metadata": {},
   "outputs": [
    {
     "data": {
      "text/html": [
       "<div>\n",
       "<style scoped>\n",
       "    .dataframe tbody tr th:only-of-type {\n",
       "        vertical-align: middle;\n",
       "    }\n",
       "\n",
       "    .dataframe tbody tr th {\n",
       "        vertical-align: top;\n",
       "    }\n",
       "\n",
       "    .dataframe thead th {\n",
       "        text-align: right;\n",
       "    }\n",
       "</style>\n",
       "<table border=\"1\" class=\"dataframe\">\n",
       "  <thead>\n",
       "    <tr style=\"text-align: right;\">\n",
       "      <th></th>\n",
       "      <th>altura</th>\n",
       "      <th>Peso</th>\n",
       "      <th>Tamanho_Camisa</th>\n",
       "    </tr>\n",
       "  </thead>\n",
       "  <tbody>\n",
       "    <tr>\n",
       "      <th>0</th>\n",
       "      <td>1.58</td>\n",
       "      <td>0.58</td>\n",
       "      <td>P</td>\n",
       "    </tr>\n",
       "    <tr>\n",
       "      <th>1</th>\n",
       "      <td>1.58</td>\n",
       "      <td>0.59</td>\n",
       "      <td>P</td>\n",
       "    </tr>\n",
       "    <tr>\n",
       "      <th>2</th>\n",
       "      <td>1.58</td>\n",
       "      <td>0.63</td>\n",
       "      <td>P</td>\n",
       "    </tr>\n",
       "    <tr>\n",
       "      <th>3</th>\n",
       "      <td>1.60</td>\n",
       "      <td>0.59</td>\n",
       "      <td>M</td>\n",
       "    </tr>\n",
       "    <tr>\n",
       "      <th>4</th>\n",
       "      <td>1.60</td>\n",
       "      <td>0.60</td>\n",
       "      <td>M</td>\n",
       "    </tr>\n",
       "    <tr>\n",
       "      <th>5</th>\n",
       "      <td>1.63</td>\n",
       "      <td>0.60</td>\n",
       "      <td>M</td>\n",
       "    </tr>\n",
       "    <tr>\n",
       "      <th>6</th>\n",
       "      <td>1.63</td>\n",
       "      <td>0.61</td>\n",
       "      <td>M</td>\n",
       "    </tr>\n",
       "  </tbody>\n",
       "</table>\n",
       "</div>"
      ],
      "text/plain": [
       "   altura  Peso Tamanho_Camisa\n",
       "0    1.58  0.58              P\n",
       "1    1.58  0.59              P\n",
       "2    1.58  0.63              P\n",
       "3    1.60  0.59              M\n",
       "4    1.60  0.60              M\n",
       "5    1.63  0.60              M\n",
       "6    1.63  0.61              M"
      ]
     },
     "execution_count": 4,
     "metadata": {},
     "output_type": "execute_result"
    }
   ],
   "source": [
    "df"
   ]
  },
  {
   "cell_type": "code",
   "execution_count": 5,
   "id": "7f38c549-2be6-4c14-b083-d30dd940a822",
   "metadata": {},
   "outputs": [
    {
     "name": "stdout",
     "output_type": "stream",
     "text": [
      "<class 'pandas.core.frame.DataFrame'>\n",
      "RangeIndex: 7 entries, 0 to 6\n",
      "Data columns (total 3 columns):\n",
      " #   Column          Non-Null Count  Dtype  \n",
      "---  ------          --------------  -----  \n",
      " 0   altura          7 non-null      float64\n",
      " 1   Peso            7 non-null      float64\n",
      " 2   Tamanho_Camisa  7 non-null      object \n",
      "dtypes: float64(2), object(1)\n",
      "memory usage: 296.0+ bytes\n"
     ]
    }
   ],
   "source": [
    "df.info()"
   ]
  },
  {
   "cell_type": "code",
   "execution_count": 6,
   "id": "48d315ed-11fa-47a6-a88f-3d1139ad9337",
   "metadata": {},
   "outputs": [
    {
     "data": {
      "text/plain": [
       "(1.61, 0.61)"
      ]
     },
     "execution_count": 6,
     "metadata": {},
     "output_type": "execute_result"
    }
   ],
   "source": [
    "# Ponto Analisado\n",
    "xy = [1.61, 0.61] # Peso, Altura\n",
    "xy[0], xy[1]"
   ]
  },
  {
   "cell_type": "code",
   "execution_count": 7,
   "id": "074236de-fe2a-433c-9697-c2436003fb3e",
   "metadata": {},
   "outputs": [
    {
     "data": {
      "text/html": [
       "<div>\n",
       "<style scoped>\n",
       "    .dataframe tbody tr th:only-of-type {\n",
       "        vertical-align: middle;\n",
       "    }\n",
       "\n",
       "    .dataframe tbody tr th {\n",
       "        vertical-align: top;\n",
       "    }\n",
       "\n",
       "    .dataframe thead th {\n",
       "        text-align: right;\n",
       "    }\n",
       "</style>\n",
       "<table border=\"1\" class=\"dataframe\">\n",
       "  <thead>\n",
       "    <tr style=\"text-align: right;\">\n",
       "      <th></th>\n",
       "      <th>altura</th>\n",
       "      <th>Peso</th>\n",
       "      <th>Tamanho_Camisa</th>\n",
       "      <th>distancia</th>\n",
       "    </tr>\n",
       "  </thead>\n",
       "  <tbody>\n",
       "    <tr>\n",
       "      <th>0</th>\n",
       "      <td>1.58</td>\n",
       "      <td>0.58</td>\n",
       "      <td>P</td>\n",
       "      <td>0.042426</td>\n",
       "    </tr>\n",
       "    <tr>\n",
       "      <th>1</th>\n",
       "      <td>1.58</td>\n",
       "      <td>0.59</td>\n",
       "      <td>P</td>\n",
       "      <td>0.036056</td>\n",
       "    </tr>\n",
       "    <tr>\n",
       "      <th>2</th>\n",
       "      <td>1.58</td>\n",
       "      <td>0.63</td>\n",
       "      <td>P</td>\n",
       "      <td>0.036056</td>\n",
       "    </tr>\n",
       "    <tr>\n",
       "      <th>3</th>\n",
       "      <td>1.60</td>\n",
       "      <td>0.59</td>\n",
       "      <td>M</td>\n",
       "      <td>0.022361</td>\n",
       "    </tr>\n",
       "    <tr>\n",
       "      <th>4</th>\n",
       "      <td>1.60</td>\n",
       "      <td>0.60</td>\n",
       "      <td>M</td>\n",
       "      <td>0.014142</td>\n",
       "    </tr>\n",
       "    <tr>\n",
       "      <th>5</th>\n",
       "      <td>1.63</td>\n",
       "      <td>0.60</td>\n",
       "      <td>M</td>\n",
       "      <td>0.022361</td>\n",
       "    </tr>\n",
       "    <tr>\n",
       "      <th>6</th>\n",
       "      <td>1.63</td>\n",
       "      <td>0.61</td>\n",
       "      <td>M</td>\n",
       "      <td>0.020000</td>\n",
       "    </tr>\n",
       "  </tbody>\n",
       "</table>\n",
       "</div>"
      ],
      "text/plain": [
       "   altura  Peso Tamanho_Camisa  distancia\n",
       "0    1.58  0.58              P   0.042426\n",
       "1    1.58  0.59              P   0.036056\n",
       "2    1.58  0.63              P   0.036056\n",
       "3    1.60  0.59              M   0.022361\n",
       "4    1.60  0.60              M   0.014142\n",
       "5    1.63  0.60              M   0.022361\n",
       "6    1.63  0.61              M   0.020000"
      ]
     },
     "execution_count": 7,
     "metadata": {},
     "output_type": "execute_result"
    }
   ],
   "source": [
    "df[\"distancia\"] = ((df[\"altura\"] - xy[0]) ** 2 + (df[\"Peso\"] - xy[1]) ** 2) ** 0.5\n",
    "\n",
    "# Distância de cada amostra para o par selecionado acima\n",
    "df"
   ]
  },
  {
   "cell_type": "markdown",
   "id": "8eabd044-f3a4-4189-8a2d-3915d54f76b7",
   "metadata": {},
   "source": [
    "De acordo com o exemplo acima para $k = 5$ devemos ter como retorno o rótulo M"
   ]
  },
  {
   "cell_type": "code",
   "execution_count": 9,
   "id": "ea098ffd-5180-48e2-8cac-39f41bfb7b88",
   "metadata": {},
   "outputs": [
    {
     "data": {
      "text/plain": [
       "(array(['M'], dtype=object), array([[0.8, 0.2]]))"
      ]
     },
     "execution_count": 9,
     "metadata": {},
     "output_type": "execute_result"
    }
   ],
   "source": [
    "import warnings\n",
    "warnings.filterwarnings('ignore')\n",
    "\n",
    "# Aplicando o algoritmo no conjunto\n",
    "from sklearn.neighbors import KNeighborsClassifier\n",
    "'''\n",
    "class sklearn.neighbors.KNeighborsClassifier(n_neighbors=5, *, weights='uniform',\n",
    "                                            algorithm='auto', leaf_size=30, p=2, metric='minkowski',\n",
    "                                            metric_params=None, n_jobs=None)\n",
    "'''\n",
    "# Instanciando o modelo\n",
    "knn = KNeighborsClassifier(n_neighbors=5)\n",
    "\n",
    "# Conjunto de treino\n",
    "X_treino = df[[\"altura\", \"Peso\"]]\n",
    "y_treino = df[\"Tamanho_Camisa\"]\n",
    "\n",
    "# Treinando o modelo\n",
    "knn.fit(X_treino, y_treino)\n",
    "\n",
    "# Prevendo \n",
    "knn.predict([xy]), knn.predict_proba([xy])"
   ]
  },
  {
   "cell_type": "markdown",
   "id": "a0feb823-acab-4f12-bcac-7b0d25e0b5cf",
   "metadata": {},
   "source": [
    "O que faz sentido, pois tínhamos 4 valores M que retorna uma probalidade de 0.8 e 1 valor de P com probabilidade de 0.2, já que no total tínhamos 5 valores ([P, M, M, M, M])."
   ]
  },
  {
   "cell_type": "code",
   "execution_count": null,
   "id": "e5a04233-e25d-4483-b147-0f180daabbeb",
   "metadata": {},
   "outputs": [],
   "source": []
  }
 ],
 "metadata": {
  "kernelspec": {
   "display_name": "Python 3 (ipykernel)",
   "language": "python",
   "name": "python3"
  },
  "language_info": {
   "codemirror_mode": {
    "name": "ipython",
    "version": 3
   },
   "file_extension": ".py",
   "mimetype": "text/x-python",
   "name": "python",
   "nbconvert_exporter": "python",
   "pygments_lexer": "ipython3",
   "version": "3.9.7"
  }
 },
 "nbformat": 4,
 "nbformat_minor": 5
}
