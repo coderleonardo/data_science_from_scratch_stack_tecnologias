{
 "cells": [
  {
   "cell_type": "markdown",
   "id": "78f90866-6f36-4d30-902e-d9707a510f52",
   "metadata": {},
   "source": [
    "# Carregando a base de dados "
   ]
  },
  {
   "cell_type": "code",
   "execution_count": 1,
   "id": "1937f7a1-003e-491d-95de-7c1ce08671b2",
   "metadata": {},
   "outputs": [],
   "source": [
    "# Import datasets, classifiers and performance metrics\n",
    "from sklearn import datasets, svm, metrics\n",
    "import matplotlib.pyplot as plt\n",
    "\n",
    "# The digits dataset\n",
    "digits = datasets.load_digits()"
   ]
  },
  {
   "cell_type": "code",
   "execution_count": 2,
   "id": "c59a53f5-33c6-47a3-a838-9a2d354074f5",
   "metadata": {},
   "outputs": [
    {
     "name": "stdout",
     "output_type": "stream",
     "text": [
      ".. _digits_dataset:\n",
      "\n",
      "Optical recognition of handwritten digits dataset\n",
      "--------------------------------------------------\n",
      "\n",
      "**Data Set Characteristics:**\n",
      "\n",
      "    :Number of Instances: 1797\n",
      "    :Number of Attributes: 64\n",
      "    :Attribute Information: 8x8 image of integer pixels in the range 0..16.\n",
      "    :Missing Attribute Values: None\n",
      "    :Creator: E. Alpaydin (alpaydin '@' boun.edu.tr)\n",
      "    :Date: July; 1998\n",
      "\n",
      "This is a copy of the test set of the UCI ML hand-written digits datasets\n",
      "https://archive.ics.uci.edu/ml/datasets/Optical+Recognition+of+Handwritten+Digits\n",
      "\n",
      "The data set contains images of hand-written digits: 10 classes where\n",
      "each class refers to a digit.\n",
      "\n",
      "Preprocessing programs made available by NIST were used to extract\n",
      "normalized bitmaps of handwritten digits from a preprinted form. From a\n",
      "total of 43 people, 30 contributed to the training set and different 13\n",
      "to the test set. 32x32 bitmaps are divided into nonoverlapping blocks of\n",
      "4x4 and the number of on pixels are counted in each block. This generates\n",
      "an input matrix of 8x8 where each element is an integer in the range\n",
      "0..16. This reduces dimensionality and gives invariance to small\n",
      "distortions.\n",
      "\n",
      "For info on NIST preprocessing routines, see M. D. Garris, J. L. Blue, G.\n",
      "T. Candela, D. L. Dimmick, J. Geist, P. J. Grother, S. A. Janet, and C.\n",
      "L. Wilson, NIST Form-Based Handprint Recognition System, NISTIR 5469,\n",
      "1994.\n",
      "\n",
      ".. topic:: References\n",
      "\n",
      "  - C. Kaynak (1995) Methods of Combining Multiple Classifiers and Their\n",
      "    Applications to Handwritten Digit Recognition, MSc Thesis, Institute of\n",
      "    Graduate Studies in Science and Engineering, Bogazici University.\n",
      "  - E. Alpaydin, C. Kaynak (1998) Cascading Classifiers, Kybernetika.\n",
      "  - Ken Tang and Ponnuthurai N. Suganthan and Xi Yao and A. Kai Qin.\n",
      "    Linear dimensionalityreduction using relevance weighted LDA. School of\n",
      "    Electrical and Electronic Engineering Nanyang Technological University.\n",
      "    2005.\n",
      "  - Claudio Gentile. A New Approximate Maximal Margin Classification\n",
      "    Algorithm. NIPS. 2000.\n",
      "\n"
     ]
    }
   ],
   "source": [
    "print(digits.DESCR)"
   ]
  },
  {
   "cell_type": "code",
   "execution_count": 3,
   "id": "4126c392-b2d9-41b8-99da-2798c48553e0",
   "metadata": {},
   "outputs": [
    {
     "data": {
      "text/plain": [
       "(1797, 8, 8)"
      ]
     },
     "execution_count": 3,
     "metadata": {},
     "output_type": "execute_result"
    }
   ],
   "source": [
    "digits.images.shape"
   ]
  },
  {
   "cell_type": "code",
   "execution_count": 6,
   "id": "2ade3730-57df-4b7d-a5bb-e9e73d305d95",
   "metadata": {},
   "outputs": [
    {
     "data": {
      "text/plain": [
       "array([0, 1, 2, 3, 4, 5, 6, 7, 8, 9])"
      ]
     },
     "execution_count": 6,
     "metadata": {},
     "output_type": "execute_result"
    }
   ],
   "source": [
    "digits.target_names"
   ]
  },
  {
   "cell_type": "code",
   "execution_count": 7,
   "id": "0207b6a1-60bb-497d-a315-415001d0c2a9",
   "metadata": {},
   "outputs": [
    {
     "data": {
      "image/png": "[encoded data removed]",
      "text/plain": [
       "<Figure size 432x288 with 10 Axes>"
      ]
     },
     "metadata": {
      "needs_background": "light"
     },
     "output_type": "display_data"
    }
   ],
   "source": [
    "# Visualizando as imagens e classes\n",
    "\n",
    "images_and_labels = list(zip(digits.images, digits.target))\n",
    "for index, (image, label) in enumerate(images_and_labels[:10]):\n",
    "    plt.subplot(3, 4, index + 1)\n",
    "    plt.axis('off')\n",
    "    plt.imshow(image, cmap=plt.cm.gray_r, interpolation='nearest')\n",
    "    plt.title('Training: %i' % label)"
   ]
  },
  {
   "cell_type": "code",
   "execution_count": 8,
   "id": "b17d5580-e63f-4d1c-97cb-b6881a402791",
   "metadata": {},
   "outputs": [],
   "source": [
    "# Convertendo os dados para um dataframe \n",
    "n_samples = len(digits.images)\n",
    "data = digits.images.reshape((n_samples, -1)) # Reshape com núm de linhas = n_samples e núm de colunas automatico (-1)\n",
    "classe = digits.target"
   ]
  },
  {
   "cell_type": "code",
   "execution_count": 10,
   "id": "064910fc-73ac-44ea-ae03-340c05eba5e0",
   "metadata": {},
   "outputs": [],
   "source": [
    "import pandas as pd\n",
    "\n",
    "dataset = pd.DataFrame(data)\n",
    "dataset['classe'] = classe"
   ]
  },
  {
   "cell_type": "code",
   "execution_count": 11,
   "id": "aefc2332-548a-4f17-ad8f-26ed1a134a13",
   "metadata": {},
   "outputs": [
    {
     "data": {
      "text/html": [
       "<div>\n",
       "<style scoped>\n",
       "    .dataframe tbody tr th:only-of-type {\n",
       "        vertical-align: middle;\n",
       "    }\n",
       "\n",
       "    .dataframe tbody tr th {\n",
       "        vertical-align: top;\n",
       "    }\n",
       "\n",
       "    .dataframe thead th {\n",
       "        text-align: right;\n",
       "    }\n",
       "</style>\n",
       "<table border=\"1\" class=\"dataframe\">\n",
       "  <thead>\n",
       "    <tr style=\"text-align: right;\">\n",
       "      <th></th>\n",
       "      <th>0</th>\n",
       "      <th>1</th>\n",
       "      <th>2</th>\n",
       "      <th>3</th>\n",
       "      <th>4</th>\n",
       "      <th>5</th>\n",
       "      <th>6</th>\n",
       "      <th>7</th>\n",
       "      <th>8</th>\n",
       "      <th>9</th>\n",
       "      <th>...</th>\n",
       "      <th>55</th>\n",
       "      <th>56</th>\n",
       "      <th>57</th>\n",
       "      <th>58</th>\n",
       "      <th>59</th>\n",
       "      <th>60</th>\n",
       "      <th>61</th>\n",
       "      <th>62</th>\n",
       "      <th>63</th>\n",
       "      <th>classe</th>\n",
       "    </tr>\n",
       "  </thead>\n",
       "  <tbody>\n",
       "    <tr>\n",
       "      <th>0</th>\n",
       "      <td>0.0</td>\n",
       "      <td>0.0</td>\n",
       "      <td>5.0</td>\n",
       "      <td>13.0</td>\n",
       "      <td>9.0</td>\n",
       "      <td>1.0</td>\n",
       "      <td>0.0</td>\n",
       "      <td>0.0</td>\n",
       "      <td>0.0</td>\n",
       "      <td>0.0</td>\n",
       "      <td>...</td>\n",
       "      <td>0.0</td>\n",
       "      <td>0.0</td>\n",
       "      <td>0.0</td>\n",
       "      <td>6.0</td>\n",
       "      <td>13.0</td>\n",
       "      <td>10.0</td>\n",
       "      <td>0.0</td>\n",
       "      <td>0.0</td>\n",
       "      <td>0.0</td>\n",
       "      <td>0</td>\n",
       "    </tr>\n",
       "    <tr>\n",
       "      <th>1</th>\n",
       "      <td>0.0</td>\n",
       "      <td>0.0</td>\n",
       "      <td>0.0</td>\n",
       "      <td>12.0</td>\n",
       "      <td>13.0</td>\n",
       "      <td>5.0</td>\n",
       "      <td>0.0</td>\n",
       "      <td>0.0</td>\n",
       "      <td>0.0</td>\n",
       "      <td>0.0</td>\n",
       "      <td>...</td>\n",
       "      <td>0.0</td>\n",
       "      <td>0.0</td>\n",
       "      <td>0.0</td>\n",
       "      <td>0.0</td>\n",
       "      <td>11.0</td>\n",
       "      <td>16.0</td>\n",
       "      <td>10.0</td>\n",
       "      <td>0.0</td>\n",
       "      <td>0.0</td>\n",
       "      <td>1</td>\n",
       "    </tr>\n",
       "    <tr>\n",
       "      <th>2</th>\n",
       "      <td>0.0</td>\n",
       "      <td>0.0</td>\n",
       "      <td>0.0</td>\n",
       "      <td>4.0</td>\n",
       "      <td>15.0</td>\n",
       "      <td>12.0</td>\n",
       "      <td>0.0</td>\n",
       "      <td>0.0</td>\n",
       "      <td>0.0</td>\n",
       "      <td>0.0</td>\n",
       "      <td>...</td>\n",
       "      <td>0.0</td>\n",
       "      <td>0.0</td>\n",
       "      <td>0.0</td>\n",
       "      <td>0.0</td>\n",
       "      <td>3.0</td>\n",
       "      <td>11.0</td>\n",
       "      <td>16.0</td>\n",
       "      <td>9.0</td>\n",
       "      <td>0.0</td>\n",
       "      <td>2</td>\n",
       "    </tr>\n",
       "    <tr>\n",
       "      <th>3</th>\n",
       "      <td>0.0</td>\n",
       "      <td>0.0</td>\n",
       "      <td>7.0</td>\n",
       "      <td>15.0</td>\n",
       "      <td>13.0</td>\n",
       "      <td>1.0</td>\n",
       "      <td>0.0</td>\n",
       "      <td>0.0</td>\n",
       "      <td>0.0</td>\n",
       "      <td>8.0</td>\n",
       "      <td>...</td>\n",
       "      <td>0.0</td>\n",
       "      <td>0.0</td>\n",
       "      <td>0.0</td>\n",
       "      <td>7.0</td>\n",
       "      <td>13.0</td>\n",
       "      <td>13.0</td>\n",
       "      <td>9.0</td>\n",
       "      <td>0.0</td>\n",
       "      <td>0.0</td>\n",
       "      <td>3</td>\n",
       "    </tr>\n",
       "    <tr>\n",
       "      <th>4</th>\n",
       "      <td>0.0</td>\n",
       "      <td>0.0</td>\n",
       "      <td>0.0</td>\n",
       "      <td>1.0</td>\n",
       "      <td>11.0</td>\n",
       "      <td>0.0</td>\n",
       "      <td>0.0</td>\n",
       "      <td>0.0</td>\n",
       "      <td>0.0</td>\n",
       "      <td>0.0</td>\n",
       "      <td>...</td>\n",
       "      <td>0.0</td>\n",
       "      <td>0.0</td>\n",
       "      <td>0.0</td>\n",
       "      <td>0.0</td>\n",
       "      <td>2.0</td>\n",
       "      <td>16.0</td>\n",
       "      <td>4.0</td>\n",
       "      <td>0.0</td>\n",
       "      <td>0.0</td>\n",
       "      <td>4</td>\n",
       "    </tr>\n",
       "  </tbody>\n",
       "</table>\n",
       "<p>5 rows × 65 columns</p>\n",
       "</div>"
      ],
      "text/plain": [
       "     0    1    2     3     4     5    6    7    8    9  ...   55   56   57  \\\n",
       "0  0.0  0.0  5.0  13.0   9.0   1.0  0.0  0.0  0.0  0.0  ...  0.0  0.0  0.0   \n",
       "1  0.0  0.0  0.0  12.0  13.0   5.0  0.0  0.0  0.0  0.0  ...  0.0  0.0  0.0   \n",
       "2  0.0  0.0  0.0   4.0  15.0  12.0  0.0  0.0  0.0  0.0  ...  0.0  0.0  0.0   \n",
       "3  0.0  0.0  7.0  15.0  13.0   1.0  0.0  0.0  0.0  8.0  ...  0.0  0.0  0.0   \n",
       "4  0.0  0.0  0.0   1.0  11.0   0.0  0.0  0.0  0.0  0.0  ...  0.0  0.0  0.0   \n",
       "\n",
       "    58    59    60    61   62   63  classe  \n",
       "0  6.0  13.0  10.0   0.0  0.0  0.0       0  \n",
       "1  0.0  11.0  16.0  10.0  0.0  0.0       1  \n",
       "2  0.0   3.0  11.0  16.0  9.0  0.0       2  \n",
       "3  7.0  13.0  13.0   9.0  0.0  0.0       3  \n",
       "4  0.0   2.0  16.0   4.0  0.0  0.0       4  \n",
       "\n",
       "[5 rows x 65 columns]"
      ]
     },
     "execution_count": 11,
     "metadata": {},
     "output_type": "execute_result"
    }
   ],
   "source": [
    "# Dataset com 64 features (8 x 8 pixels)\n",
    "dataset.head()"
   ]
  },
  {
   "cell_type": "markdown",
   "id": "0a49d698-3989-4509-980b-d79e9c46fb26",
   "metadata": {},
   "source": [
    "## Etapa de treinamento do modelo "
   ]
  },
  {
   "cell_type": "code",
   "execution_count": 12,
   "id": "f48b7e7e-de6c-478a-b8f4-11753023602b",
   "metadata": {},
   "outputs": [],
   "source": [
    "from sklearn.model_selection import train_test_split\n",
    "from sklearn.neighbors import KNeighborsClassifier\n",
    "\n",
    "X_train, X_test, y_train, y_test = train_test_split(dataset.drop('classe', axis=1), dataset['classe'], test_size=0.3)"
   ]
  },
  {
   "cell_type": "code",
   "execution_count": 13,
   "id": "04309bf8-7cb8-4362-b02a-61fab9821579",
   "metadata": {},
   "outputs": [
    {
     "name": "stdout",
     "output_type": "stream",
     "text": [
      "(1257, 64) (540, 64)\n",
      "(1257,) (540,)\n"
     ]
    }
   ],
   "source": [
    "print(X_train.shape, X_test.shape)\n",
    "print(y_train.shape, y_test.shape)"
   ]
  },
  {
   "cell_type": "code",
   "execution_count": 14,
   "id": "d01c425d-f496-4344-99e4-741a668f1ecf",
   "metadata": {},
   "outputs": [],
   "source": [
    "# Instanciação do modelo\n",
    "knn = KNeighborsClassifier(n_neighbors=3)\n",
    "\n",
    "# Treinamento do modelo\n",
    "knn.fit(X_train, y_train)\n",
    "\n",
    "# Predição do modelo\n",
    "y_pred = knn.predict(X_test)"
   ]
  },
  {
   "cell_type": "markdown",
   "id": "77f61308-1e5d-49a9-8b74-e3d3e6a307f5",
   "metadata": {},
   "source": [
    "## Métricas para avaliação do modelo "
   ]
  },
  {
   "cell_type": "code",
   "execution_count": 15,
   "id": "c8aae3e8-c3dd-48a8-afce-330b9536dc3d",
   "metadata": {},
   "outputs": [
    {
     "name": "stdout",
     "output_type": "stream",
     "text": [
      "              precision    recall  f1-score   support\n",
      "\n",
      "           0       1.00      1.00      1.00        61\n",
      "           1       0.93      1.00      0.97        57\n",
      "           2       1.00      0.98      0.99        57\n",
      "           3       0.96      1.00      0.98        53\n",
      "           4       1.00      1.00      1.00        52\n",
      "           5       1.00      0.98      0.99        47\n",
      "           6       1.00      1.00      1.00        53\n",
      "           7       1.00      1.00      1.00        47\n",
      "           8       0.96      0.92      0.94        53\n",
      "           9       0.98      0.95      0.97        60\n",
      "\n",
      "    accuracy                           0.98       540\n",
      "   macro avg       0.98      0.98      0.98       540\n",
      "weighted avg       0.98      0.98      0.98       540\n",
      "\n"
     ]
    }
   ],
   "source": [
    "from sklearn import metrics\n",
    "print(metrics.classification_report(y_test, y_pred))"
   ]
  },
  {
   "cell_type": "code",
   "execution_count": 17,
   "id": "2eb455b9-e4c6-4e97-ba69-59aca9a8c25d",
   "metadata": {},
   "outputs": [
    {
     "name": "stdout",
     "output_type": "stream",
     "text": [
      "          Predito   0   1   2   3   4   5   6   7   8   9  All\n",
      "Real                                                          \n",
      "0                  61   0   0   0   0   0   0   0   0   0   61\n",
      "1                   0  57   0   0   0   0   0   0   0   0   57\n",
      "2                   0   0  56   1   0   0   0   0   0   0   57\n",
      "3                   0   0   0  53   0   0   0   0   0   0   53\n",
      "4                   0   0   0   0  52   0   0   0   0   0   52\n",
      "5                   0   0   0   0   0  46   0   0   0   1   47\n",
      "6                   0   0   0   0   0   0  53   0   0   0   53\n",
      "7                   0   0   0   0   0   0   0  47   0   0   47\n",
      "8                   0   3   0   1   0   0   0   0  49   0   53\n",
      "9                   0   1   0   0   0   0   0   0   2  57   60\n",
      "All                61  61  56  55  52  46  53  47  51  58  540\n"
     ]
    }
   ],
   "source": [
    "# Confusion Matrix\n",
    "print(pd.crosstab(y_test, y_pred, rownames=['Real'], colnames=['          Predito'], margins=True))"
   ]
  },
  {
   "cell_type": "markdown",
   "id": "468c880e-b663-4f23-80d8-d7e8d2c86415",
   "metadata": {},
   "source": [
    "## Melhorando o nosso algoritmo"
   ]
  },
  {
   "cell_type": "markdown",
   "id": "2d9ef847-c8f7-48eb-91e6-a55113e9a63c",
   "metadata": {},
   "source": [
    "### Cross-Validation\n",
    "\n",
    "Técnica de validação que gera um conjunto de treino e teste diferente a cada iteração (cv), de modo que ao final conseguimos eliminar a variância que teríamos no nosso conjunto de treino e teste."
   ]
  },
  {
   "cell_type": "code",
   "execution_count": 18,
   "id": "c33ea775-2287-45a2-9ec4-5ad1d2f8a23a",
   "metadata": {},
   "outputs": [
    {
     "data": {
      "text/plain": [
       "array([0.95555556, 0.95833333, 0.96657382, 0.98607242, 0.96657382])"
      ]
     },
     "execution_count": 18,
     "metadata": {},
     "output_type": "execute_result"
    }
   ],
   "source": [
    "from sklearn.model_selection import cross_val_score\n",
    "scores = cross_val_score(knn, dataset.drop('classe', axis=1), dataset['classe'], cv=5)\n",
    "scores"
   ]
  },
  {
   "cell_type": "markdown",
   "id": "d8274179-91c7-4770-9020-574941a510ce",
   "metadata": {},
   "source": [
    "### Grid-Search para otimização do parâmetro *K*\n",
    "\n",
    "Grid-Search é uma técnica de busca exaustiva dos melhores parâmetros de uma modelo a partir de um conjunto de combinações de hiper-parâmetros."
   ]
  },
  {
   "cell_type": "code",
   "execution_count": 19,
   "id": "1fcb8aee-e44f-494d-a67d-deabac3430ea",
   "metadata": {},
   "outputs": [
    {
     "name": "stdout",
     "output_type": "stream",
     "text": [
      "{'mean_fit_time': array([0.00682535, 0.00448289, 0.00297899, 0.00292225, 0.00298243,\n",
      "       0.00289464, 0.00286326, 0.00299983, 0.00298553, 0.00317688,\n",
      "       0.00335164, 0.00325108, 0.00428357, 0.00339112, 0.00291972,\n",
      "       0.002947  , 0.00297346, 0.00284715, 0.00289073, 0.00281525,\n",
      "       0.00413027, 0.00297661, 0.00309911, 0.00331488, 0.00348563,\n",
      "       0.00341377, 0.00324864, 0.00297356, 0.0029038 , 0.00311594,\n",
      "       0.00477481, 0.00282135, 0.00288835, 0.00306911, 0.0029974 ,\n",
      "       0.00312395, 0.00357094, 0.00337405, 0.00291944, 0.00298438,\n",
      "       0.00362167, 0.00328975, 0.00500951, 0.00297213, 0.00295525,\n",
      "       0.00290127, 0.0036243 , 0.00305753, 0.00346746, 0.00328112]), 'std_fit_time': array([3.78483768e-03, 3.10062517e-03, 1.21723311e-04, 5.96460961e-05,\n",
      "       1.24400262e-04, 7.90951974e-05, 1.60868773e-05, 1.82902539e-04,\n",
      "       2.35964996e-04, 1.93576706e-04, 5.65309293e-04, 6.40916379e-04,\n",
      "       1.27893536e-03, 5.04363098e-04, 1.43174468e-04, 7.20769925e-05,\n",
      "       1.70196776e-04, 5.59493583e-05, 7.24995735e-05, 2.46741921e-05,\n",
      "       2.53588603e-03, 3.37418929e-04, 3.29531690e-04, 5.10185825e-04,\n",
      "       2.96949451e-04, 4.24805379e-04, 5.01171900e-04, 1.88620651e-04,\n",
      "       1.09818465e-04, 4.25033701e-04, 3.12385535e-03, 2.20150092e-05,\n",
      "       9.37996505e-05, 2.28484246e-04, 5.51915930e-04, 4.90177313e-04,\n",
      "       1.41687270e-03, 6.36517533e-04, 6.57929882e-05, 5.94374410e-05,\n",
      "       5.68211643e-04, 9.27800935e-04, 2.94427923e-03, 1.18516147e-04,\n",
      "       1.32808385e-04, 7.47225888e-05, 1.59218140e-03, 4.19916604e-04,\n",
      "       4.95489946e-04, 6.86394791e-04]), 'mean_score_time': array([0.03414884, 0.02127857, 0.02112231, 0.0189136 , 0.02274284,\n",
      "       0.01806293, 0.01853557, 0.02286062, 0.02016187, 0.02255592,\n",
      "       0.0223742 , 0.01993957, 0.02671661, 0.0223321 , 0.02465014,\n",
      "       0.02013645, 0.02427192, 0.01943498, 0.02445116, 0.02350783,\n",
      "       0.02886477, 0.02161217, 0.02626309, 0.04107828, 0.024403  ,\n",
      "       0.0287477 , 0.0307528 , 0.02072115, 0.02350712, 0.02686272,\n",
      "       0.03312407, 0.02648869, 0.02110333, 0.02717562, 0.02242537,\n",
      "       0.02743034, 0.02137785, 0.02754831, 0.02839398, 0.03300877,\n",
      "       0.04189243, 0.03041625, 0.03449926, 0.02374058, 0.0284781 ,\n",
      "       0.02678704, 0.02286363, 0.03075061, 0.02641287, 0.02624459]), 'std_score_time': array([0.01688483, 0.00607614, 0.0048681 , 0.00205802, 0.00819372,\n",
      "       0.00026628, 0.00082171, 0.00788007, 0.00274393, 0.00476859,\n",
      "       0.00138402, 0.00203813, 0.00836159, 0.00169446, 0.00893227,\n",
      "       0.00162226, 0.00763509, 0.00060766, 0.010463  , 0.00847039,\n",
      "       0.01390196, 0.00313934, 0.00928798, 0.025968  , 0.0041467 ,\n",
      "       0.00574202, 0.01027506, 0.00082894, 0.00530922, 0.00588903,\n",
      "       0.01252608, 0.01111286, 0.0002036 , 0.00803423, 0.00215391,\n",
      "       0.00921578, 0.00062079, 0.00754208, 0.01097752, 0.00581665,\n",
      "       0.01862932, 0.0049567 , 0.00848193, 0.00026864, 0.00924237,\n",
      "       0.00602437, 0.00022501, 0.01003005, 0.0024539 , 0.00185222]), 'param_n_neighbors': masked_array(data=[1, 2, 3, 4, 5, 6, 7, 8, 9, 10, 11, 12, 13, 14, 15, 16,\n",
      "                   17, 18, 19, 20, 21, 22, 23, 24, 25, 26, 27, 28, 29, 30,\n",
      "                   31, 32, 33, 34, 35, 36, 37, 38, 39, 40, 41, 42, 43, 44,\n",
      "                   45, 46, 47, 48, 49, 50],\n",
      "             mask=[False, False, False, False, False, False, False, False,\n",
      "                   False, False, False, False, False, False, False, False,\n",
      "                   False, False, False, False, False, False, False, False,\n",
      "                   False, False, False, False, False, False, False, False,\n",
      "                   False, False, False, False, False, False, False, False,\n",
      "                   False, False, False, False, False, False, False, False,\n",
      "                   False, False],\n",
      "       fill_value='?',\n",
      "            dtype=object), 'params': [{'n_neighbors': 1}, {'n_neighbors': 2}, {'n_neighbors': 3}, {'n_neighbors': 4}, {'n_neighbors': 5}, {'n_neighbors': 6}, {'n_neighbors': 7}, {'n_neighbors': 8}, {'n_neighbors': 9}, {'n_neighbors': 10}, {'n_neighbors': 11}, {'n_neighbors': 12}, {'n_neighbors': 13}, {'n_neighbors': 14}, {'n_neighbors': 15}, {'n_neighbors': 16}, {'n_neighbors': 17}, {'n_neighbors': 18}, {'n_neighbors': 19}, {'n_neighbors': 20}, {'n_neighbors': 21}, {'n_neighbors': 22}, {'n_neighbors': 23}, {'n_neighbors': 24}, {'n_neighbors': 25}, {'n_neighbors': 26}, {'n_neighbors': 27}, {'n_neighbors': 28}, {'n_neighbors': 29}, {'n_neighbors': 30}, {'n_neighbors': 31}, {'n_neighbors': 32}, {'n_neighbors': 33}, {'n_neighbors': 34}, {'n_neighbors': 35}, {'n_neighbors': 36}, {'n_neighbors': 37}, {'n_neighbors': 38}, {'n_neighbors': 39}, {'n_neighbors': 40}, {'n_neighbors': 41}, {'n_neighbors': 42}, {'n_neighbors': 43}, {'n_neighbors': 44}, {'n_neighbors': 45}, {'n_neighbors': 46}, {'n_neighbors': 47}, {'n_neighbors': 48}, {'n_neighbors': 49}, {'n_neighbors': 50}], 'split0_test_score': array([0.96111111, 0.96111111, 0.95555556, 0.94722222, 0.94722222,\n",
      "       0.94444444, 0.93611111, 0.93611111, 0.93055556, 0.93055556,\n",
      "       0.93611111, 0.93333333, 0.93333333, 0.93611111, 0.93333333,\n",
      "       0.93055556, 0.93611111, 0.92777778, 0.93055556, 0.925     ,\n",
      "       0.925     , 0.91944444, 0.925     , 0.91944444, 0.92222222,\n",
      "       0.92222222, 0.92777778, 0.93055556, 0.92777778, 0.925     ,\n",
      "       0.93055556, 0.93333333, 0.93333333, 0.93333333, 0.92777778,\n",
      "       0.92777778, 0.925     , 0.925     , 0.92222222, 0.92222222,\n",
      "       0.925     , 0.92222222, 0.92222222, 0.92222222, 0.925     ,\n",
      "       0.92222222, 0.92222222, 0.91944444, 0.91944444, 0.91944444]), 'split1_test_score': array([0.95277778, 0.96666667, 0.95833333, 0.95833333, 0.95555556,\n",
      "       0.95833333, 0.96111111, 0.95555556, 0.95277778, 0.94722222,\n",
      "       0.94444444, 0.95277778, 0.95      , 0.95277778, 0.95      ,\n",
      "       0.95      , 0.95      , 0.94444444, 0.95      , 0.95      ,\n",
      "       0.94444444, 0.95      , 0.94166667, 0.94166667, 0.93888889,\n",
      "       0.93611111, 0.93333333, 0.93611111, 0.92777778, 0.93611111,\n",
      "       0.93055556, 0.93333333, 0.93333333, 0.93333333, 0.925     ,\n",
      "       0.92222222, 0.92777778, 0.92777778, 0.925     , 0.92777778,\n",
      "       0.91666667, 0.91944444, 0.91666667, 0.92222222, 0.92222222,\n",
      "       0.925     , 0.92222222, 0.925     , 0.91944444, 0.91944444]), 'split2_test_score': array([0.96657382, 0.96935933, 0.96657382, 0.96657382, 0.96657382,\n",
      "       0.96657382, 0.96935933, 0.96935933, 0.97214485, 0.96935933,\n",
      "       0.96935933, 0.96935933, 0.97214485, 0.96935933, 0.96935933,\n",
      "       0.96935933, 0.9637883 , 0.9637883 , 0.9637883 , 0.96657382,\n",
      "       0.9637883 , 0.96657382, 0.9637883 , 0.96657382, 0.95821727,\n",
      "       0.95821727, 0.94986072, 0.94428969, 0.94150418, 0.93871866,\n",
      "       0.93871866, 0.93871866, 0.93871866, 0.93314763, 0.93871866,\n",
      "       0.93314763, 0.93314763, 0.9275766 , 0.93036212, 0.93036212,\n",
      "       0.93036212, 0.93036212, 0.9275766 , 0.9275766 , 0.9275766 ,\n",
      "       0.9275766 , 0.92479109, 0.9275766 , 0.9275766 , 0.9275766 ]), 'split3_test_score': array([0.98607242, 0.97771588, 0.98607242, 0.98050139, 0.98050139,\n",
      "       0.97493036, 0.98050139, 0.97771588, 0.97771588, 0.97771588,\n",
      "       0.97771588, 0.97493036, 0.97493036, 0.97214485, 0.97214485,\n",
      "       0.96935933, 0.96657382, 0.9637883 , 0.9637883 , 0.96100279,\n",
      "       0.96657382, 0.9637883 , 0.96657382, 0.96935933, 0.9637883 ,\n",
      "       0.9637883 , 0.9637883 , 0.96100279, 0.96100279, 0.96100279,\n",
      "       0.96100279, 0.96100279, 0.95821727, 0.95821727, 0.95821727,\n",
      "       0.95543175, 0.95264624, 0.95264624, 0.94986072, 0.95264624,\n",
      "       0.94986072, 0.95264624, 0.94986072, 0.94986072, 0.95264624,\n",
      "       0.94986072, 0.94707521, 0.94428969, 0.94428969, 0.94428969]), 'split4_test_score': array([0.95543175, 0.96100279, 0.96657382, 0.96657382, 0.9637883 ,\n",
      "       0.95264624, 0.95264624, 0.94986072, 0.94986072, 0.94986072,\n",
      "       0.94986072, 0.94986072, 0.94707521, 0.94986072, 0.94707521,\n",
      "       0.95264624, 0.94986072, 0.94707521, 0.94428969, 0.94428969,\n",
      "       0.94428969, 0.94707521, 0.94428969, 0.94707521, 0.94428969,\n",
      "       0.94707521, 0.94428969, 0.94428969, 0.94707521, 0.94428969,\n",
      "       0.93871866, 0.93871866, 0.93871866, 0.93593315, 0.93314763,\n",
      "       0.93314763, 0.93314763, 0.93314763, 0.9275766 , 0.9275766 ,\n",
      "       0.9275766 , 0.9275766 , 0.93036212, 0.93036212, 0.9275766 ,\n",
      "       0.93036212, 0.92479109, 0.92479109, 0.92479109, 0.91922006]), 'mean_test_score': array([0.96439338, 0.96717115, 0.96662179, 0.96384092, 0.96272826,\n",
      "       0.95938564, 0.95994584, 0.95772052, 0.95661096, 0.95494274,\n",
      "       0.9554983 , 0.95605231, 0.95549675, 0.95605076, 0.95438254,\n",
      "       0.95438409, 0.95326679, 0.94937481, 0.95048437, 0.94937326,\n",
      "       0.94881925, 0.94937635, 0.9482637 , 0.94882389, 0.94548128,\n",
      "       0.94548282, 0.94380997, 0.94324977, 0.94102755, 0.94102445,\n",
      "       0.93991024, 0.94102136, 0.94046425, 0.93879294, 0.93657227,\n",
      "       0.9343454 , 0.93434386, 0.93322965, 0.93100433, 0.93211699,\n",
      "       0.92989322, 0.93045032, 0.92933767, 0.93044878, 0.93100433,\n",
      "       0.93100433, 0.92822037, 0.92822037, 0.92710925, 0.92599505]), 'std_test_score': array([0.01183842, 0.00618072, 0.01067232, 0.01094553, 0.01116854,\n",
      "       0.01061202, 0.01505909, 0.01461989, 0.01688705, 0.01677273,\n",
      "       0.01559219, 0.01482341, 0.01579353, 0.01328726, 0.01452912,\n",
      "       0.01441218, 0.01099427, 0.01350204, 0.01256786, 0.01450101,\n",
      "       0.0151414 , 0.01676341, 0.01534136, 0.01818901, 0.0147188 ,\n",
      "       0.01502449, 0.01267096, 0.01029015, 0.01254531, 0.01179861,\n",
      "       0.01116025, 0.0102769 , 0.00919743, 0.00976696, 0.01179917,\n",
      "       0.01129255, 0.0096774 , 0.01006397, 0.00980717, 0.01060075,\n",
      "       0.01098338, 0.01174526, 0.011283  , 0.01020228, 0.01100044,\n",
      "       0.00980717, 0.00949716, 0.00845914, 0.00914613, 0.00968418]), 'rank_test_score': array([ 3,  1,  2,  4,  5,  7,  6,  8,  9, 14, 12, 10, 13, 11, 16, 15, 17,\n",
      "       20, 18, 21, 23, 19, 24, 22, 26, 25, 27, 28, 29, 30, 33, 31, 32, 34,\n",
      "       35, 36, 37, 38, 40, 39, 45, 43, 46, 44, 40, 40, 47, 47, 49, 50],\n",
      "      dtype=int32)}\n"
     ]
    }
   ],
   "source": [
    "from sklearn.model_selection import GridSearchCV\n",
    "\n",
    "k_list = list(range(1, 51))\n",
    "\n",
    "k_values = dict(n_neighbors=k_list)\n",
    "\n",
    "# Instânciando o objeto GridSearch\n",
    "# GridSearchCV(algoritmo, lista_valores, cross_validation, métrica)\n",
    "grid_search = GridSearchCV(knn, k_values, cv=5, scoring='accuracy')\n",
    "\n",
    "# Treinando o objeto\n",
    "grid_search.fit(dataset.drop('classe', axis=1), dataset['classe'])\n",
    "\n",
    "# Não dividimos entre conjunto de treino e teste dados que o CV já faz isso\n",
    "print(grid_search.cv_results_)"
   ]
  },
  {
   "cell_type": "code",
   "execution_count": 20,
   "id": "1ca2b85a-9eb2-41cc-9b8b-1544e7ef6215",
   "metadata": {},
   "outputs": [
    {
     "name": "stdout",
     "output_type": "stream",
     "text": [
      "grid.best_params_: {'n_neighbors': 2}; grid.best_score_: 0.9671711544413494\n"
     ]
    }
   ],
   "source": [
    "# Best parameters\n",
    "print(\"grid.best_params_: {}; grid.best_score_: {}\".format(grid_search.best_params_, grid_search.best_score_))"
   ]
  },
  {
   "cell_type": "code",
   "execution_count": 21,
   "id": "d8f0ff51-6a3c-4eaf-bace-e0a59342b694",
   "metadata": {},
   "outputs": [
    {
     "data": {
      "text/plain": [
       "array([0.96439338, 0.96717115, 0.96662179, 0.96384092, 0.96272826,\n",
       "       0.95938564, 0.95994584, 0.95772052, 0.95661096, 0.95494274,\n",
       "       0.9554983 , 0.95605231, 0.95549675, 0.95605076, 0.95438254,\n",
       "       0.95438409, 0.95326679, 0.94937481, 0.95048437, 0.94937326,\n",
       "       0.94881925, 0.94937635, 0.9482637 , 0.94882389, 0.94548128,\n",
       "       0.94548282, 0.94380997, 0.94324977, 0.94102755, 0.94102445,\n",
       "       0.93991024, 0.94102136, 0.94046425, 0.93879294, 0.93657227,\n",
       "       0.9343454 , 0.93434386, 0.93322965, 0.93100433, 0.93211699,\n",
       "       0.92989322, 0.93045032, 0.92933767, 0.93044878, 0.93100433,\n",
       "       0.93100433, 0.92822037, 0.92822037, 0.92710925, 0.92599505])"
      ]
     },
     "execution_count": 21,
     "metadata": {},
     "output_type": "execute_result"
    }
   ],
   "source": [
    "# Visualização dos valores de K e acurácia\n",
    "grid_search.cv_results_[\"mean_test_score\"]"
   ]
  },
  {
   "cell_type": "code",
   "execution_count": 22,
   "id": "5111fe56-bc57-49e4-978d-4518dcc49426",
   "metadata": {},
   "outputs": [
    {
     "data": {
      "image/png": "[encoded data removed]",
      "text/plain": [
       "<Figure size 720x432 with 1 Axes>"
      ]
     },
     "metadata": {
      "needs_background": "light"
     },
     "output_type": "display_data"
    }
   ],
   "source": [
    "plt.figure(figsize=(10,6))\n",
    "plt.plot(k_list, grid_search.cv_results_[\"mean_test_score\"], color='red', linestyle='dashed', marker='o')\n",
    "plt.xlabel('k')\n",
    "plt.ylabel('accuracy')\n",
    "plt.show()"
   ]
  },
  {
   "cell_type": "code",
   "execution_count": null,
   "id": "7578e690-7646-4af2-a5b4-9487a4ede976",
   "metadata": {},
   "outputs": [],
   "source": []
  }
 ],
 "metadata": {
  "kernelspec": {
   "display_name": "Python 3 (ipykernel)",
   "language": "python",
   "name": "python3"
  },
  "language_info": {
   "codemirror_mode": {
    "name": "ipython",
    "version": 3
   },
   "file_extension": ".py",
   "mimetype": "text/x-python",
   "name": "python",
   "nbconvert_exporter": "python",
   "pygments_lexer": "ipython3",
   "version": "3.9.7"
  }
 },
 "nbformat": 4,
 "nbformat_minor": 5
}
