{
 "cells": [
  {
   "cell_type": "markdown",
   "metadata": {},
   "source": [
    "# Avaliando modelos de regressão"
   ]
  },
  {
   "cell_type": "code",
   "execution_count": 1,
   "metadata": {},
   "outputs": [],
   "source": [
    "from sklearn import metrics\n",
    "import numpy as np"
   ]
  },
  {
   "cell_type": "code",
   "execution_count": 2,
   "metadata": {},
   "outputs": [],
   "source": [
    "y_real = np.array([1, 2, 3, 4])\n",
    "y_predict = np.array([1, 2, 3, 5])"
   ]
  },
  {
   "cell_type": "markdown",
   "metadata": {},
   "source": [
    "### 1. MAE\n",
    "\n",
    "- Calcula o erro absoluto médio entre valores preditos e reais\n",
    "- Interpretação mais intuitiva\n",
    "- Não pune severamente os outliers do modelo\n",
    "- Medida não ideal para lidar com problemas delicados \n"
   ]
  },
  {
   "cell_type": "code",
   "execution_count": 5,
   "metadata": {},
   "outputs": [
    {
     "name": "stdout",
     "output_type": "stream",
     "text": [
      "MAE: 0.25\n",
      "MAE Implementation: 0.25\n"
     ]
    }
   ],
   "source": [
    "print('MAE:', metrics.mean_absolute_error(y_real, y_predict))\n",
    "\n",
    "def mae(y_real, y_predict):\n",
    "    mae_metric = np.sum(np.abs(y_real - y_predict)) / len(y_real)\n",
    "    print(f\"MAE Implementation: {mae_metric}\")\n",
    "    \n",
    "mae_metric = mae(y_real, y_predict)"
   ]
  },
  {
   "cell_type": "markdown",
   "metadata": {},
   "source": [
    "### 2. MSE\n",
    "- Calcula o erro das previsões ao quadrado\n",
    "- Valores muitos distantes do real, aumenta o valor da medida muito facilmente\n",
    "- Dificuldade para interpretação direta\n"
   ]
  },
  {
   "cell_type": "code",
   "execution_count": 4,
   "metadata": {},
   "outputs": [
    {
     "name": "stdout",
     "output_type": "stream",
     "text": [
      "MSE: 0.25\n",
      "MSE Implementation: 0.25\n"
     ]
    }
   ],
   "source": [
    "print('MSE:', metrics.mean_squared_error(y_real, y_predict))\n",
    "\n",
    "def mse(y_real, y_predict):\n",
    "    mse_metric = np.sum(np.abs(y_real - y_predict) ** 2) / len(y_real)\n",
    "    print(f\"MSE Implementation: {mse_metric}\")\n",
    "    \n",
    "mse_metric = mse(y_real, y_predict)"
   ]
  },
  {
   "cell_type": "markdown",
   "metadata": {},
   "source": [
    "### 3. RMSE\n",
    "- Calcula a raiz do erro média quadrático:\n",
    "- Interpretabilidade melhorada em relação ao MSE \n",
    "- Penaliza predições muito distante do real"
   ]
  },
  {
   "cell_type": "code",
   "execution_count": null,
   "metadata": {},
   "outputs": [
    {
     "name": "stdout",
     "output_type": "stream",
     "text": [
      "RMSE: 0.5\n",
      "MSE Implementation: 0.25\n"
     ]
    }
   ],
   "source": [
    "print('RMSE:', np.sqrt(metrics.mean_squared_error(y_real, y_predict)))\n",
    "\n",
    "def rmse(y_real, y_predict):\n",
    "    rmse_metric = np.sqrt(mse(y_real, y_predict))\n",
    "    print(f\"RMSE Implementation: {rmse_metric}\")\n",
    "    \n",
    "rmse_metric = rmse(y_real, y_predict)"
   ]
  },
  {
   "cell_type": "markdown",
   "metadata": {},
   "source": [
    "### 4. MAPE\n",
    "- Calcula um erro absoluto em porcentagem\n",
    "- Intuitiva para a interpretação do programador \n",
    "- Pode ser ruim quando o problema possui um grande alcance de número onde a variável predita varia de 0 a 20000, por exemplo.\n"
   ]
  },
  {
   "cell_type": "code",
   "execution_count": 6,
   "metadata": {},
   "outputs": [],
   "source": [
    "def mean_absolute_percentage_error(y_true, y_pred): \n",
    "    y_true, y_pred = np.array(y_true), np.array(y_pred)\n",
    "    return np.mean(np.abs((y_true - y_pred) / y_true)) * 100"
   ]
  },
  {
   "cell_type": "code",
   "execution_count": 7,
   "metadata": {},
   "outputs": [
    {
     "data": {
      "text/plain": [
       "6.25"
      ]
     },
     "execution_count": 7,
     "metadata": {},
     "output_type": "execute_result"
    }
   ],
   "source": [
    "mean_absolute_percentage_error(y_real, y_predict)"
   ]
  },
  {
   "cell_type": "markdown",
   "metadata": {},
   "source": [
    "### 4. R Quadrado\n",
    "- Mede o quão próximo as medidas reais estão do nosso modelo\n",
    "- Se aplica apenas a modelo univariados (X == 1)\n",
    "- Pode ser enviado por que utilizamos a correlação dos dados\n",
    "- Muito utilizada na área de finanças\n"
   ]
  },
  {
   "cell_type": "code",
   "execution_count": 8,
   "metadata": {},
   "outputs": [
    {
     "name": "stdout",
     "output_type": "stream",
     "text": [
      "R: 0.8\n"
     ]
    }
   ],
   "source": [
    "print('R:', metrics.r2_score(y_real, y_predict))"
   ]
  },
  {
   "cell_type": "markdown",
   "metadata": {},
   "source": [
    "### 5. R Quadrado ajustado\n",
    "- Representa a porcentagem da variância  sem viés devido ao acréscimo de novas features:\n",
    "- Avalia modelos com mais precisão e segurança\n",
    "- Pode ser utilizada em modelos com mais de uma feature (X > 1)\n",
    "- Usado para modelos mais simples que considera os valores encontrados pelo modelo a soma de um erro residual.\n"
   ]
  },
  {
   "cell_type": "code",
   "execution_count": 9,
   "metadata": {},
   "outputs": [
    {
     "name": "stdout",
     "output_type": "stream",
     "text": [
      "R-adjust: 0.7000000000000001\n"
     ]
    }
   ],
   "source": [
    "def adjusted_R(y_real, y_predict, N):\n",
    "    adj_r = (1 - ((1 - metrics.r2_score(y, y_predict)) * (len(y) - 1)) / (len(y) - N - 1))   \n",
    "    return adj_r\n",
    "print('R-adjust:', adjusted_R(y_test, y_predict, 1))"
   ]
  }
 ],
 "metadata": {
  "kernelspec": {
   "display_name": "Python 3 (ipykernel)",
   "language": "python",
   "name": "python3"
  },
  "language_info": {
   "codemirror_mode": {
    "name": "ipython",
    "version": 3
   },
   "file_extension": ".py",
   "mimetype": "text/x-python",
   "name": "python",
   "nbconvert_exporter": "python",
   "pygments_lexer": "ipython3",
   "version": "3.9.7"
  }
 },
 "nbformat": 4,
 "nbformat_minor": 4
}
